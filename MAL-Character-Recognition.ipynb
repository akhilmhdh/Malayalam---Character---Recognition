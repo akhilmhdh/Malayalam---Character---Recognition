{
  "nbformat": 4,
  "nbformat_minor": 0,
  "metadata": {
    "colab": {
      "name": "MalayalamOCR.ipynb",
      "provenance": [],
      "collapsed_sections": [],
      "authorship_tag": "ABX9TyNrYX2O1wlAfJrEYKvnaQxL"
    },
    "kernelspec": {
      "name": "python3",
      "display_name": "Python 3"
    },
    "accelerator": "GPU"
  },
  "cells": [
    {
      "cell_type": "code",
      "metadata": {
        "id": "XOP4m4yYDY6q",
        "colab_type": "code",
        "colab": {}
      },
      "source": [
        "# collab to get connected with drive to save data (optional but beneficial)\n",
        "from google.colab import drive\n",
        "drive.mount('/content/gdrive')"
      ],
      "execution_count": 0,
      "outputs": []
    },
    {
      "cell_type": "code",
      "metadata": {
        "id": "DLwB3NYqDjbd",
        "colab_type": "code",
        "colab": {
          "base_uri": "https://localhost:8080/",
          "height": 35
        },
        "outputId": "63b89d93-8c8e-4746-d89a-331b33bb837f"
      },
      "source": [
        "root_drive=\"data\""
      ],
      "execution_count": 20,
      "outputs": [
        {
          "output_type": "stream",
          "text": [
            "^C\n"
          ],
          "name": "stdout"
        }
      ]
    },
    {
      "cell_type": "markdown",
      "metadata": {
        "id": "IQaTSdxVB8_e",
        "colab_type": "text"
      },
      "source": [
        "# A preprocess function to convert the Images to white Bg and also greyscale conversion"
      ]
    },
    {
      "cell_type": "code",
      "metadata": {
        "id": "3DBo4sbGJTDE",
        "colab_type": "code",
        "colab": {}
      },
      "source": [
        "# # folder converter python program\n",
        "# import os\n",
        "# from random import randrange\n",
        "# from PIL import Image\n",
        "\n",
        "# currentPosition=os.path.join(root_drive)\n",
        "# files=os.listdir(currentPosition)\n",
        "# try:\n",
        "#     os.mkdir(os.path.join(currentPosition,\"train\"))\n",
        "#     os.mkdir(os.path.join(currentPosition,\"valid\"))\n",
        "# except:\n",
        "#     print(\"Duplicate\")\n",
        "\n",
        "# for i in files:\n",
        "#     trainFolder=os.path.join(currentPosition,\"train\",i)\n",
        "#     testFolder=os.path.join(currentPosition,\"valid\",i)\n",
        "#     os.mkdir(trainFolder)\n",
        "#     os.mkdir(testFolder)\n",
        "#     currentFolder=os.path.join(currentPosition,i)\n",
        "#     datasets=os.listdir(currentFolder)\n",
        "\n",
        "#     for i in range(int((20*len(datasets))/100)):\n",
        "#         source=randrange(len(datasets))\n",
        "#         img=Image.open(os.path.join(currentFolder,datasets[source]));\n",
        "#         trans2white=Image.new(\"RGB\",img.size,(255,255,255))\n",
        "#         trans2white.paste(img,mask=img.split()[3])\n",
        "#         trans2white.convert(\"L\").save(os.path.join(testFolder,datasets[source]),\"PNG\")\n",
        "#         os.remove(os.path.join(currentFolder,datasets[source]))\n",
        "#         datasets.pop(source)\n",
        "#     for k in datasets:\n",
        "#         img=Image.open(os.path.join(currentFolder,k));\n",
        "#         trans2white=Image.new(\"RGB\",img.size,(255,255,255))\n",
        "#         trans2white.paste(img,mask=img.split()[3])\n",
        "#         trans2white=trans2white.convert(\"L\")\n",
        "#         trans2white.save(os.path.join(trainFolder,k),\"PNG\")\n",
        "#         os.remove(os.path.join(currentFolder,k))    \n",
        "\n",
        "# for i in os.listdir(\"/content/gdrive/My Drive/Colab Notebooks/malayalam-ocr/data\")[:-2]:\n",
        "#   os.rmdir(os.path.join(\"/content/gdrive/My Drive/Colab Notebooks/malayalam-ocr/data\",i))"
      ],
      "execution_count": 0,
      "outputs": []
    },
    {
      "cell_type": "code",
      "metadata": {
        "id": "eOHjTQHnIzQU",
        "colab_type": "code",
        "colab": {}
      },
      "source": [
        "import torch\n",
        "import torchvision.transforms as transforms\n",
        "import torchvision.datasets as datasets\n",
        "import torchvision.models as models\n",
        "import torch.nn as nn\n",
        "import torch.nn.functional as F\n",
        "import torch.optim as optim\n",
        "import numpy as np\n",
        "import os\n",
        "from PIL import Image\n",
        "import matplotlib.pyplot as plt"
      ],
      "execution_count": 0,
      "outputs": []
    },
    {
      "cell_type": "markdown",
      "metadata": {
        "id": "FkEyzM57ulT3",
        "colab_type": "text"
      },
      "source": [
        "# Adding all the transforms"
      ]
    },
    {
      "cell_type": "code",
      "metadata": {
        "id": "8QFezf7ZOVWi",
        "colab_type": "code",
        "colab": {}
      },
      "source": [
        "transformations=transforms.Compose([transforms.Grayscale(1),\n",
        "                                    transforms.Resize(32),\n",
        "                                    transforms.ToTensor(),\n",
        "                                   transforms.Normalize([0.5], [0.5])\n",
        "                                     ])"
      ],
      "execution_count": 0,
      "outputs": []
    },
    {
      "cell_type": "code",
      "metadata": {
        "id": "jgS-2F4j86P5",
        "colab_type": "code",
        "colab": {}
      },
      "source": [
        "train_set=datasets.ImageFolder(root_drive+\"/train/\",transform=transformations)\n",
        "val_set=datasets.ImageFolder(root_drive+\"/valid/\",transform=transformations)"
      ],
      "execution_count": 0,
      "outputs": []
    },
    {
      "cell_type": "code",
      "metadata": {
        "id": "JbzuudL7MCas",
        "colab_type": "code",
        "colab": {}
      },
      "source": [
        "train_loader = torch.utils.data.DataLoader(train_set, batch_size=32, shuffle=True)\n",
        "val_loader = torch.utils.data.DataLoader(val_set, batch_size =32, shuffle=True)"
      ],
      "execution_count": 0,
      "outputs": []
    },
    {
      "cell_type": "code",
      "metadata": {
        "id": "kCnLPOdLQhDj",
        "colab_type": "code",
        "colab": {}
      },
      "source": [
        "dataiter = iter(train_loader)\n",
        "images, labels = dataiter.next()\n",
        "images = images.numpy() # convert images to numpy for display\n",
        "labels=labels.numpy()\n"
      ],
      "execution_count": 0,
      "outputs": []
    },
    {
      "cell_type": "markdown",
      "metadata": {
        "id": "zkQtxLTyvly2",
        "colab_type": "text"
      },
      "source": [
        "#Printing a train data"
      ]
    },
    {
      "cell_type": "code",
      "metadata": {
        "id": "-Ycvr0QfRLmD",
        "colab_type": "code",
        "outputId": "7c403ae1-d17f-44b3-cdaa-763a1618cc6b",
        "colab": {
          "base_uri": "https://localhost:8080/",
          "height": 299
        }
      },
      "source": [
        "images=np.squeeze(images)\n",
        "plt.imshow(images[0],cmap=\"gray\")\n",
        "plt.title(labels[0])\n"
      ],
      "execution_count": 0,
      "outputs": [
        {
          "output_type": "execute_result",
          "data": {
            "text/plain": [
              "Text(0.5, 1.0, '1')"
            ]
          },
          "metadata": {
            "tags": []
          },
          "execution_count": 47
        },
        {
          "output_type": "display_data",
          "data": {
            "image/png": "[encoded data removed]",
            "text/plain": [
              "<Figure size 432x288 with 1 Axes>"
            ]
          },
          "metadata": {
            "tags": []
          }
        }
      ]
    },
    {
      "cell_type": "markdown",
      "metadata": {
        "id": "fpHwO9OOvw9D",
        "colab_type": "text"
      },
      "source": [
        "# Defining the network model"
      ]
    },
    {
      "cell_type": "code",
      "metadata": {
        "id": "uCBxjM9_Wq33",
        "colab_type": "code",
        "colab": {}
      },
      "source": [
        "class Net(nn.Module):\n",
        "  def __init__(self):\n",
        "    super(Net,self).__init__()\n",
        "    # conv layer on 1->16->32->64\n",
        "    self.conv1=nn.Conv2d(1,16,3,padding=1)\n",
        "    self.conv2=nn.Conv2d(16,32,3,padding=1)\n",
        "    self.conv3=nn.Conv2d(32,64,3,padding=1)\n",
        "    # adding a pooling layer\n",
        "    self.pool=nn.MaxPool2d(2,2)\n",
        "    # linear layer \n",
        "    # output volume (W-F+2P)/s+1\n",
        "    self.fc1=nn.Linear(64*4*4,500)\n",
        "    self.fc2=nn.Linear(500,48)\n",
        "    #adding dropout layer\n",
        "    self.dropout=nn.Dropout(0.25)\n",
        "  \n",
        "  def forward(self,x):\n",
        "    x=self.pool(F.relu(self.conv1(x)))\n",
        "    x=self.pool(F.relu(self.conv2(x)))\n",
        "    x=self.pool(F.relu(self.conv3(x)))\n",
        "    #flatten for FC network \n",
        "    x=x.view(-1,64*4*4)\n",
        "    x=self.dropout(x)\n",
        "    x=self.dropout(F.relu(self.fc1(x)))\n",
        "    x=self.fc2(x)\n",
        "    return x\n"
      ],
      "execution_count": 0,
      "outputs": []
    },
    {
      "cell_type": "markdown",
      "metadata": {
        "id": "2cHLTszZAbP8",
        "colab_type": "text"
      },
      "source": [
        "# Loss Function"
      ]
    },
    {
      "cell_type": "code",
      "metadata": {
        "id": "ohpJiyCnANCI",
        "colab_type": "code",
        "outputId": "28ff851c-b17e-4b64-9178-2af85fc32ec4",
        "colab": {
          "base_uri": "https://localhost:8080/",
          "height": 35
        }
      },
      "source": [
        "train_on_gpu= torch.cuda.is_available()\n",
        "\n",
        "model = Net()\n",
        "\n",
        "if train_on_gpu:\n",
        "    model.cuda()\n",
        "\n",
        "print(train_on_gpu)\n",
        "\n",
        "criterion = nn.CrossEntropyLoss()\n",
        "\n",
        "optimizer=optim.SGD(model.parameters(),lr=0.01)"
      ],
      "execution_count": 0,
      "outputs": [
        {
          "output_type": "stream",
          "text": [
            "True\n"
          ],
          "name": "stdout"
        }
      ]
    },
    {
      "cell_type": "markdown",
      "metadata": {
        "id": "P7qvev0aAZcU",
        "colab_type": "text"
      },
      "source": [
        "# Train Function"
      ]
    },
    {
      "cell_type": "code",
      "metadata": {
        "id": "Rm2bArb2A1xz",
        "colab_type": "code",
        "colab": {}
      },
      "source": [
        "def train(epochs,model,valid_loss_min):\n",
        "  for epoch in range(1,epochs+1):\n",
        "    train_loss=0.0\n",
        "    valid_loss=0.0\n",
        "\n",
        "    model.train()\n",
        "\n",
        "    for data, target in train_loader:\n",
        "      # moving to cuda\n",
        "      if train_on_gpu:\n",
        "        data,target=data.cuda(),target.cuda()\n",
        "      # clearence gradients\n",
        "      optimizer.zero_grad()\n",
        "      # getting output\n",
        "      output=model(data)\n",
        "      # getting loss\n",
        "      loss = criterion(output,target)\n",
        "      # backpropagation\n",
        "      loss.backward()\n",
        "      optimizer.step()\n",
        "      train_loss+=loss.item()*data.size(0)\n",
        "    \n",
        "    model.eval()\n",
        "\n",
        "    for data,target in val_loader:\n",
        "      if train_on_gpu:\n",
        "        data,target=data.cuda(),target.cuda()\n",
        "      \n",
        "      output=model(data)\n",
        "      loss=criterion(output,target)\n",
        "\n",
        "      valid_loss+=loss.item()*data.size(0)\n",
        "    \n",
        "    train_loss = train_loss/len(train_loader.dataset)\n",
        "    valid_loss = valid_loss/len(val_loader.dataset)\n",
        "\n",
        "    print('Epoch: {} \\t Training Loss: {:.6f} \\t Validation Loss: {:.6f}'.format(\n",
        "        epoch, train_loss, valid_loss))\n",
        "    \n",
        "    if valid_loss<=valid_loss_min:\n",
        "       print('Model Save ({:.6f} --> {:.6f})'.format(valid_loss_min,valid_loss))\n",
        "       torch.save({\n",
        "           \"model\":model.state_dict(),\n",
        "           \"valid_loss_min\":valid_loss\n",
        "       },os.path.join(root_drive,\"save\",'malayalamOCR.pt'))\n",
        "       valid_loss_min=valid_loss\n"
      ],
      "execution_count": 0,
      "outputs": []
    },
    {
      "cell_type": "code",
      "metadata": {
        "id": "kJs59ZadGi65",
        "colab_type": "code",
        "outputId": "8c044564-c077-4aaa-fe62-85ee0a63a4b4",
        "colab": {
          "base_uri": "https://localhost:8080/",
          "height": 697
        }
      },
      "source": [
        "loadFileName=os.path.join(root_drive,\"save\",'malayalamOCR.pt')\n",
        "\n",
        "if loadFileName:\n",
        "  savedState=torch.load(loadFileName)\n",
        "  modelDict=savedState[\"model\"]\n",
        "  valid_loss_min=savedState[\"valid_loss_min\"]\n",
        "\n",
        "epochs=30\n",
        "if loadFileName:\n",
        "  model.load_state_dict(modelDict)\n",
        "train(epochs,model,valid_loss_min)\n",
        "\n"
      ],
      "execution_count": 0,
      "outputs": [
        {
          "output_type": "stream",
          "text": [
            "Epoch: 1 \t Training Loss: 0.385052 \t Validation Loss: 0.466310\n",
            "Model Save (0.476871 --> 0.466310)\n",
            "Epoch: 2 \t Training Loss: 0.380742 \t Validation Loss: 0.510144\n",
            "Epoch: 3 \t Training Loss: 0.363094 \t Validation Loss: 0.476563\n",
            "Epoch: 4 \t Training Loss: 0.337165 \t Validation Loss: 0.486201\n",
            "Epoch: 5 \t Training Loss: 0.337628 \t Validation Loss: 0.487221\n",
            "Epoch: 6 \t Training Loss: 0.313422 \t Validation Loss: 0.497166\n",
            "Epoch: 7 \t Training Loss: 0.306858 \t Validation Loss: 0.466344\n",
            "Epoch: 8 \t Training Loss: 0.312759 \t Validation Loss: 0.445138\n",
            "Model Save (0.466310 --> 0.445138)\n",
            "Epoch: 9 \t Training Loss: 0.275476 \t Validation Loss: 0.439825\n",
            "Model Save (0.445138 --> 0.439825)\n",
            "Epoch: 10 \t Training Loss: 0.276107 \t Validation Loss: 0.442553\n",
            "Epoch: 11 \t Training Loss: 0.272700 \t Validation Loss: 0.470670\n",
            "Epoch: 12 \t Training Loss: 0.263103 \t Validation Loss: 0.455390\n",
            "Epoch: 13 \t Training Loss: 0.257030 \t Validation Loss: 0.463782\n",
            "Epoch: 14 \t Training Loss: 0.252921 \t Validation Loss: 0.457545\n",
            "Epoch: 15 \t Training Loss: 0.229150 \t Validation Loss: 0.452286\n",
            "Epoch: 16 \t Training Loss: 0.224251 \t Validation Loss: 0.446587\n",
            "Epoch: 17 \t Training Loss: 0.218557 \t Validation Loss: 0.443843\n",
            "Epoch: 18 \t Training Loss: 0.209262 \t Validation Loss: 0.454542\n",
            "Epoch: 19 \t Training Loss: 0.223781 \t Validation Loss: 0.433577\n",
            "Model Save (0.439825 --> 0.433577)\n",
            "Epoch: 20 \t Training Loss: 0.199051 \t Validation Loss: 0.443870\n",
            "Epoch: 21 \t Training Loss: 0.187534 \t Validation Loss: 0.435107\n",
            "Epoch: 22 \t Training Loss: 0.188648 \t Validation Loss: 0.470675\n",
            "Epoch: 23 \t Training Loss: 0.190680 \t Validation Loss: 0.428273\n",
            "Model Save (0.433577 --> 0.428273)\n",
            "Epoch: 24 \t Training Loss: 0.178634 \t Validation Loss: 0.446486\n",
            "Epoch: 25 \t Training Loss: 0.178879 \t Validation Loss: 0.432039\n",
            "Epoch: 26 \t Training Loss: 0.163745 \t Validation Loss: 0.444613\n",
            "Epoch: 27 \t Training Loss: 0.168694 \t Validation Loss: 0.425654\n",
            "Model Save (0.428273 --> 0.425654)\n",
            "Epoch: 28 \t Training Loss: 0.169465 \t Validation Loss: 0.423003\n",
            "Model Save (0.425654 --> 0.423003)\n",
            "Epoch: 29 \t Training Loss: 0.176389 \t Validation Loss: 0.428745\n",
            "Epoch: 30 \t Training Loss: 0.162699 \t Validation Loss: 0.436845\n"
          ],
          "name": "stdout"
        }
      ]
    },
    {
      "cell_type": "markdown",
      "metadata": {
        "id": "KqmAX3lmM948",
        "colab_type": "text"
      },
      "source": [
        "# Checking our final model "
      ]
    },
    {
      "cell_type": "code",
      "metadata": {
        "id": "K2Yb-UpGJez8",
        "colab_type": "code",
        "colab": {}
      },
      "source": [
        "loadFileName=None\n",
        "# if ur not startiong from scratch remove above line and uncomment below\n",
        "#loadFileName=os.path.join(root_drive,\"save\",'malayalamOCR.pt')\n",
        "\n",
        "if loadFileName:\n",
        "  savedState=torch.load(loadFileName)\n",
        "  modelDict=savedState[\"model\"]\n",
        "  valid_loss_min=savedState[\"valid_loss_min\"]\n",
        "\n",
        "epochs=30\n",
        "if loadFileName:\n",
        "  model.load_state_dict(modelDict)\n",
        "\n",
        "  # just to get the feel ;)\n",
        "  malayalam_alphabets=[\"Aa\",\"Aaaaaaaaa\",\"Ee\",\"Vu\"]"
      ],
      "execution_count": 0,
      "outputs": []
    },
    {
      "cell_type": "code",
      "metadata": {
        "id": "vm_BE7HJNsBG",
        "colab_type": "code",
        "outputId": "0c9d88ec-cb7a-48d2-c94d-082c8079c85e",
        "colab": {
          "base_uri": "https://localhost:8080/",
          "height": 299
        }
      },
      "source": [
        "model.eval()\n",
        "image = Image.open(\"./alphabet_test2.png\")\n",
        "original_image=image\n",
        "image=transformations(image)\n",
        "if train_on_gpu:\n",
        "        image=image.cuda()\n",
        "image = image.unsqueeze(0)\n",
        "output=model(image)\n",
        "_, preds_tensor = torch.max(output, 1)\n",
        "pred = np.squeeze(preds_tensor.numpy()) if not train_on_gpu else np.squeeze(preds_tensor.cpu().numpy())\n",
        "\n",
        "plt.imshow(original_image,cmap=\"gray\")\n",
        "plt.title(malayalam_alphabets[pred])"
      ],
      "execution_count": 0,
      "outputs": [
        {
          "output_type": "execute_result",
          "data": {
            "text/plain": [
              "Text(0.5, 1.0, 'Vu')"
            ]
          },
          "metadata": {
            "tags": []
          },
          "execution_count": 38
        },
        {
          "output_type": "display_data",
          "data": {
            "image/png": "[encoded data removed]",
            "text/plain": [
              "<Figure size 432x288 with 1 Axes>"
            ]
          },
          "metadata": {
            "tags": []
          }
        }
      ]
    },
    {
      "cell_type": "code",
      "metadata": {
        "id": "5P0iDSnJO5yO",
        "colab_type": "code",
        "colab": {}
      },
      "source": [
        ""
      ],
      "execution_count": 0,
      "outputs": []
    }
  ]
}
